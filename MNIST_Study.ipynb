{
  "nbformat": 4,
  "nbformat_minor": 0,
  "metadata": {
    "colab": {
      "provenance": []
    },
    "kernelspec": {
      "name": "python3",
      "display_name": "Python 3"
    },
    "language_info": {
      "name": "python"
    }
  },
  "cells": [
    {
      "cell_type": "code",
      "execution_count": null,
      "metadata": {
        "id": "dWPzM7WYuGS8",
        "colab": {
          "base_uri": "https://localhost:8080/"
        },
        "outputId": "4451daf4-8aec-487b-d5b0-66714067cb1e"
      },
      "outputs": [
        {
          "output_type": "stream",
          "name": "stdout",
          "text": [
            "Downloading data from https://storage.googleapis.com/tensorflow/tf-keras-datasets/mnist.npz\n",
            "11490434/11490434 [==============================] - 0s 0us/step\n"
          ]
        }
      ],
      "source": [
        "# Loading the MNIST dataset directly from keras\n",
        "from keras.datasets import mnist\n",
        "(train_input, train_output), (test_input, test_output) = mnist.load_data()"
      ]
    },
    {
      "cell_type": "markdown",
      "source": [
        "#Data exploration  and preprocessing"
      ],
      "metadata": {
        "id": "ex2lhza0uYOE"
      }
    },
    {
      "cell_type": "code",
      "source": [
        "# Displaying a train input digit with matplotlib\n",
        "import matplotlib.pyplot as plt\n",
        "import numpy as np\n",
        "digit = train_input[4]\n",
        "plt.imshow(digit, cmap=plt.cm.binary)\n",
        "plt.show()\n",
        "\n",
        "print(f'Train input shape: {np.shape(train_input)}')\n",
        "print(f'Test input shape: {np.shape(test_input)}')"
      ],
      "metadata": {
        "colab": {
          "base_uri": "https://localhost:8080/",
          "height": 465
        },
        "id": "ugD4dpvIuYtV",
        "outputId": "e2e14304-526f-4370-cf04-cae4a7ee9976"
      },
      "execution_count": null,
      "outputs": [
        {
          "output_type": "display_data",
          "data": {
            "text/plain": [
              "<Figure size 640x480 with 1 Axes>"
            ],
            "image/png": "[encoded data removed]"
          },
          "metadata": {}
        },
        {
          "output_type": "stream",
          "name": "stdout",
          "text": [
            "Train input shape: (60000, 28, 28)\n",
            "Test input shape: (10000, 28, 28)\n"
          ]
        }
      ]
    },
    {
      "cell_type": "code",
      "source": [
        "# Preprocessing the input data\n",
        "\n",
        "train_input_dense_nn = train_input.reshape((train_input.shape[0], 28*28))\n",
        "train_input_dense_nn = train_input_dense_nn.astype('float32') / 255\n",
        "test_input_dense_nn = test_input.reshape((test_input.shape[0], 28*28))\n",
        "test_input_dense_nn = test_input_dense_nn.astype('float32') / 255\n",
        "\n",
        "train_input_convolutional_nn = train_input.reshape((train_input.shape[0], 28, 28, 1))\n",
        "train_input_convolutional_nn = train_input_convolutional_nn.astype('float32') / 255\n",
        "test_input_convolutional_nn = test_input.reshape((test_input.shape[0], 28, 28, 1))\n",
        "test_input_convolutional_nn = test_input_convolutional_nn.astype('float32') / 255"
      ],
      "metadata": {
        "id": "uDoZNZ-nuZ8g"
      },
      "execution_count": null,
      "outputs": []
    },
    {
      "cell_type": "code",
      "source": [
        "# Categorically encoding the label data\n",
        "from keras.utils import to_categorical\n",
        "train_output_dense_nn = to_categorical(train_output)\n",
        "test_output_dense_nn = to_categorical(test_output)\n",
        "\n",
        "train_output_convolutional_nn = to_categorical(train_output)\n",
        "test_output_convolutional_nn = to_categorical(test_output)"
      ],
      "metadata": {
        "id": "XjwHofX3ub2F"
      },
      "execution_count": null,
      "outputs": []
    },
    {
      "cell_type": "markdown",
      "source": [
        "#Model arquitecture function\n"
      ],
      "metadata": {
        "id": "jVAF9LXouewE"
      }
    },
    {
      "cell_type": "code",
      "source": [
        "# Importing the keras sequential model\n",
        "from keras import models, layers, losses, optimizers, metrics, regularizers\n",
        "\n",
        "def buildDenseNN(layers_units, shape):\n",
        "  model = models.Sequential()\n",
        "  model.add(layers.Dense(layers_units[0], activation=\"relu\", kernel_regularizer=regularizers.l2(0.001), input_shape=shape))\n",
        "\n",
        "  for i in layers_units[1:]:\n",
        "    model.add(layers.Dropout(0.4))\n",
        "    model.add(layers.Dense(i, activation=\"relu\", kernel_regularizer=regularizers.l2(0.001)))\n",
        "\n",
        "  model.add(layers.Dropout(0.4))\n",
        "  model.add(layers.Dense(10, activation=\"softmax\"))\n",
        "\n",
        "  model.compile(\n",
        "      optimizer=optimizers.RMSprop(),\n",
        "      loss=losses.categorical_crossentropy,\n",
        "      metrics=[\"accuracy\"]\n",
        "  )\n",
        "\n",
        "  return model\n",
        "\n",
        "def buildConvolutionalNN(layers_units, dense_layer_units, window_size, pooling_size, shape):\n",
        "  model = models.Sequential()\n",
        "\n",
        "  # Feature extraction layers\n",
        "  model.add(layers.Conv2D(layers_units[0], window_size[0], activation=\"relu\", input_shape=shape))\n",
        "  model.add(layers.BatchNormalization())\n",
        "  model.add(layers.MaxPooling2D(pooling_size[0]))\n",
        "\n",
        "  for i in range(len(layers_units[1:len(layers_units)-1])):\n",
        "    model.add(layers.Conv2D(layers_units[i], window_size[i], activation=\"relu\"))\n",
        "    model.add(layers.BatchNormalization())\n",
        "    model.add(layers.MaxPooling2D(pooling_size[i]))\n",
        "\n",
        "  model.add(layers.Conv2D(layers_units[len(layers_units)-1], window_size[len(window_size)-1], activation=\"relu\"))\n",
        "\n",
        "  # Classifier\n",
        "  model.add(layers.Flatten())\n",
        "  model.add(layers.Dense(dense_layer_units, activation=\"relu\"))\n",
        "  model.add(layers.Dropout(0.4))\n",
        "  model.add(layers.Dense(10, activation=\"softmax\"))\n",
        "\n",
        "  model.compile(\n",
        "      optimizer=optimizers.RMSprop(),\n",
        "      loss=losses.categorical_crossentropy,\n",
        "      metrics=[\"accuracy\"]\n",
        "  )\n",
        "\n",
        "  return model"
      ],
      "metadata": {
        "id": "V_iZxZDYudB0"
      },
      "execution_count": null,
      "outputs": []
    },
    {
      "cell_type": "markdown",
      "source": [
        "#Creating the K Fold Shuffled Cross-Validation algorithm for each model"
      ],
      "metadata": {
        "id": "4TslwUdxuiGM"
      }
    },
    {
      "cell_type": "code",
      "source": [
        "# Creating the K Fold Cross-Validation algorithm\n",
        "import numpy as np\n",
        "\n",
        "def shuffleData(data_input, data_output):\n",
        "  data_length = len(data_input)\n",
        "  permutation = np.random.permutation(data_length)\n",
        "\n",
        "  data_input = data_input[permutation]\n",
        "  data_output = data_output[permutation]\n",
        "\n",
        "def fitModel(model, data_input, data_output, val_input, val_output, batch_size, N_epochs, verbose=1):\n",
        "  history = model.fit(data_input, data_output, validation_data=(val_input, val_output), batch_size=batch_size, epochs=N_epochs, verbose=verbose)\n",
        "  return history\n",
        "\n",
        "def kFoldCrossValidationDeepNN(buildModelFunction, k, data_input, data_output, batch_size, N_epochs, layer_units, shape):\n",
        "  shuffleData(data_input, data_output)\n",
        "  data_length = len(data_input)\n",
        "  N = data_length//k\n",
        "  k_folds_history = list()\n",
        "\n",
        "  for i in range(k):\n",
        "    print(f'Processing fold', i)\n",
        "    data_input_val_partition = data_input[i*N:(i+1)*N]\n",
        "    data_input_train_partition = np.concatenate(\n",
        "      [data_input[:i*N], data_input[(i+1)*N:]], axis=0\n",
        "    )\n",
        "\n",
        "    data_output_val_partition = data_output[i*N:(i+1)*N]\n",
        "    data_output_train_partition = np.concatenate(\n",
        "        [data_output[:i*N], data_output[(i+1)*N:]], axis=0\n",
        "    )\n",
        "\n",
        "    model = buildModelFunction(layer_units, shape)\n",
        "    history = fitModel(model, data_input_train_partition, data_output_train_partition, data_input_val_partition, data_output_val_partition, batch_size, N_epochs, verbose=0)\n",
        "    k_folds_history.append(history.history)\n",
        "\n",
        "  return k_folds_history\n",
        "\n",
        "def kFoldCrossValidationConvNN(buildModelFunction, k, data_input, data_output, batch_size, N_epochs, layers_units, dense_layer_units, window_size, pooling_size, shape):\n",
        "  shuffleData(data_input, data_output)\n",
        "  data_length = len(data_input)\n",
        "  N = data_length//k\n",
        "  k_folds_history = list()\n",
        "\n",
        "  for i in range(k):\n",
        "    print(f'Processing fold', i)\n",
        "    data_input_val_partition = data_input[i*N:(i+1)*N]\n",
        "    data_input_train_partition = np.concatenate(\n",
        "      [data_input[:i*N], data_input[(i+1)*N:]], axis=0\n",
        "    )\n",
        "\n",
        "    data_output_val_partition = data_output[i*N:(i+1)*N]\n",
        "    data_output_train_partition = np.concatenate(\n",
        "        [data_output[:i*N], data_output[(i+1)*N:]], axis=0\n",
        "    )\n",
        "\n",
        "    model = buildModelFunction(layers_units, dense_layer_units, window_size, pooling_size, shape)\n",
        "    history = fitModel(model, data_input_train_partition, data_output_train_partition, data_input_val_partition, data_output_val_partition, batch_size, N_epochs, verbose=0)\n",
        "    k_folds_history.append(history.history)\n",
        "\n",
        "  return k_folds_history"
      ],
      "metadata": {
        "id": "loGo5_9Nugm9"
      },
      "execution_count": null,
      "outputs": []
    },
    {
      "cell_type": "markdown",
      "source": [
        "#Creating the Dense NN Model"
      ],
      "metadata": {
        "id": "3PvW_nhGukvU"
      }
    },
    {
      "cell_type": "code",
      "source": [
        "k_folds_history_deep_nn = kFoldCrossValidationDeepNN(buildDenseNN, 4, train_input_dense_nn, train_output_dense_nn, 512, 20, [512, 64], (28*28, ))"
      ],
      "metadata": {
        "colab": {
          "base_uri": "https://localhost:8080/"
        },
        "id": "Pl3hcL9WujWF",
        "outputId": "5354d0fb-9eaf-4ba4-d719-d3503b4f9066"
      },
      "execution_count": null,
      "outputs": [
        {
          "output_type": "stream",
          "name": "stdout",
          "text": [
            "Processing fold 0\n",
            "Processing fold 1\n",
            "Processing fold 2\n",
            "Processing fold 3\n"
          ]
        }
      ]
    },
    {
      "cell_type": "code",
      "source": [
        "epoch_accuracy_mean_deep_nn = [np.mean([x[\"accuracy\"][i] for x in k_folds_history_deep_nn]) for i in range(len(k_folds_history_deep_nn[0][\"accuracy\"]))]\n",
        "epoch_val_accuracy_mean_deep_nn = [np.mean([x[\"val_accuracy\"][i] for x in k_folds_history_deep_nn]) for i in range(len(k_folds_history_deep_nn[0][\"val_accuracy\"]))]"
      ],
      "metadata": {
        "id": "19_sD0yrumZd"
      },
      "execution_count": null,
      "outputs": []
    },
    {
      "cell_type": "code",
      "source": [
        "# Ploting the data from history. Notice the max accuracy is reached at epoch 19\n",
        "import matplotlib.pyplot as plt\n",
        "\n",
        "plt.plot(epoch_accuracy_mean_deep_nn, label=\"Train_Accuracy\")\n",
        "plt.plot(epoch_val_accuracy_mean_deep_nn, 'o', label=\"Val_Accuracy\")\n",
        "plt.xlabel(\"Number of Epochs\")\n",
        "plt.ylabel(\"Percentage (%)\")\n",
        "plt.legend()\n",
        "\n",
        "print(\n",
        "    f'Maximum validation accuracy: {max(epoch_val_accuracy_mean_deep_nn)} at epoch {epoch_val_accuracy_mean_deep_nn.index(max(epoch_val_accuracy_mean_deep_nn))+1}'\n",
        ")"
      ],
      "metadata": {
        "colab": {
          "base_uri": "https://localhost:8080/",
          "height": 466
        },
        "id": "wRMVuLEounR0",
        "outputId": "800d97da-3034-4a4a-e2f4-22e22acd9c64"
      },
      "execution_count": null,
      "outputs": [
        {
          "output_type": "stream",
          "name": "stdout",
          "text": [
            "Maximum validation accuracy: 0.9732833504676819 at epoch 20\n"
          ]
        },
        {
          "output_type": "display_data",
          "data": {
            "text/plain": [
              "<Figure size 640x480 with 1 Axes>"
            ],
            "image/png": "[encoded data removed]"
          },
          "metadata": {}
        }
      ]
    },
    {
      "cell_type": "code",
      "source": [
        "denseNN = buildDenseNN([512, 64], (28*28, ))\n",
        "denseNN.fit(train_input_dense_nn, train_output_dense_nn, batch_size=512, epochs=18, )"
      ],
      "metadata": {
        "colab": {
          "base_uri": "https://localhost:8080/"
        },
        "id": "01b1KMMCuoVE",
        "outputId": "06365148-bc54-4244-bfac-a951d33ebed9"
      },
      "execution_count": null,
      "outputs": [
        {
          "output_type": "stream",
          "name": "stdout",
          "text": [
            "Epoch 1/18\n",
            "118/118 [==============================] - 5s 37ms/step - loss: 1.1433 - accuracy: 0.8197\n",
            "Epoch 2/18\n",
            "118/118 [==============================] - 3s 28ms/step - loss: 0.6093 - accuracy: 0.9196\n",
            "Epoch 3/18\n",
            "118/118 [==============================] - 3s 27ms/step - loss: 0.4539 - accuracy: 0.9384\n",
            "Epoch 4/18\n",
            "118/118 [==============================] - 4s 30ms/step - loss: 0.3764 - accuracy: 0.9467\n",
            "Epoch 5/18\n",
            "118/118 [==============================] - 4s 34ms/step - loss: 0.3311 - accuracy: 0.9518\n",
            "Epoch 6/18\n",
            "118/118 [==============================] - 3s 28ms/step - loss: 0.3052 - accuracy: 0.9546\n",
            "Epoch 7/18\n",
            "118/118 [==============================] - 3s 28ms/step - loss: 0.2818 - accuracy: 0.9577\n",
            "Epoch 8/18\n",
            "118/118 [==============================] - 4s 36ms/step - loss: 0.2710 - accuracy: 0.9584\n",
            "Epoch 9/18\n",
            "118/118 [==============================] - 3s 28ms/step - loss: 0.2574 - accuracy: 0.9609\n",
            "Epoch 10/18\n",
            "118/118 [==============================] - 3s 28ms/step - loss: 0.2476 - accuracy: 0.9627\n",
            "Epoch 11/18\n",
            "118/118 [==============================] - 3s 28ms/step - loss: 0.2421 - accuracy: 0.9636\n",
            "Epoch 12/18\n",
            "118/118 [==============================] - 4s 36ms/step - loss: 0.2383 - accuracy: 0.9636\n",
            "Epoch 13/18\n",
            "118/118 [==============================] - 3s 28ms/step - loss: 0.2345 - accuracy: 0.9640\n",
            "Epoch 14/18\n",
            "118/118 [==============================] - 3s 29ms/step - loss: 0.2287 - accuracy: 0.9650\n",
            "Epoch 15/18\n",
            "118/118 [==============================] - 4s 37ms/step - loss: 0.2230 - accuracy: 0.9658\n",
            "Epoch 16/18\n",
            "118/118 [==============================] - 3s 29ms/step - loss: 0.2237 - accuracy: 0.9658\n",
            "Epoch 17/18\n",
            "118/118 [==============================] - 3s 28ms/step - loss: 0.2182 - accuracy: 0.9668\n",
            "Epoch 18/18\n",
            "118/118 [==============================] - 3s 28ms/step - loss: 0.2151 - accuracy: 0.9671\n"
          ]
        },
        {
          "output_type": "execute_result",
          "data": {
            "text/plain": [
              "<keras.src.callbacks.History at 0x7ba77927b490>"
            ]
          },
          "metadata": {},
          "execution_count": 10
        }
      ]
    },
    {
      "cell_type": "code",
      "source": [
        "denseNN.evaluate(test_input_dense_nn, test_output_dense_nn)"
      ],
      "metadata": {
        "colab": {
          "base_uri": "https://localhost:8080/"
        },
        "id": "urYkfWyWupbd",
        "outputId": "86b490af-8d35-43c9-f1de-a4e801ff84d5"
      },
      "execution_count": null,
      "outputs": [
        {
          "output_type": "stream",
          "name": "stdout",
          "text": [
            "313/313 [==============================] - 2s 5ms/step - loss: 0.1745 - accuracy: 0.9772\n"
          ]
        },
        {
          "output_type": "execute_result",
          "data": {
            "text/plain": [
              "[0.17445413768291473, 0.9771999716758728]"
            ]
          },
          "metadata": {},
          "execution_count": 11
        }
      ]
    },
    {
      "cell_type": "markdown",
      "source": [
        "#Creating the Convolutional NN Model"
      ],
      "metadata": {
        "id": "QJ0nq-o4usYE"
      }
    },
    {
      "cell_type": "code",
      "source": [
        "k_folds_history_conv_nn = kFoldCrossValidationConvNN(buildConvolutionalNN, 4, train_input_convolutional_nn, train_output_convolutional_nn, 64, 5, [32, 64, 64], 64, [(3, 3), (3, 3), (3, 3)], [(2, 2), (2, 2)], (28, 28, 1))"
      ],
      "metadata": {
        "colab": {
          "base_uri": "https://localhost:8080/"
        },
        "id": "rjFo6296uqp8",
        "outputId": "e12cbbc9-d18c-435b-cade-85aed20a3441"
      },
      "execution_count": null,
      "outputs": [
        {
          "output_type": "stream",
          "name": "stdout",
          "text": [
            "Processing fold 0\n",
            "Processing fold 1\n",
            "Processing fold 2\n",
            "Processing fold 3\n"
          ]
        }
      ]
    },
    {
      "cell_type": "code",
      "source": [
        "epoch_accuracy_mean_conv_nn = [np.mean([x[\"accuracy\"][i] for x in k_folds_history_conv_nn]) for i in range(len(k_folds_history_conv_nn[0][\"accuracy\"]))]\n",
        "epoch_val_accuracy_mean_conv_nn = [np.mean([x[\"val_accuracy\"][i] for x in k_folds_history_conv_nn]) for i in range(len(k_folds_history_conv_nn[0][\"val_accuracy\"]))]"
      ],
      "metadata": {
        "id": "bJEVTipQuuI0"
      },
      "execution_count": null,
      "outputs": []
    },
    {
      "cell_type": "code",
      "source": [
        "# Ploting the data from history. Notice the max accuracy is reached at epoch 4\n",
        "import matplotlib.pyplot as plt\n",
        "\n",
        "plt.plot(epoch_accuracy_mean_conv_nn, label=\"Train_Accuracy\")\n",
        "plt.plot(epoch_val_accuracy_mean_conv_nn, 'o', label=\"Val_Accuracy\")\n",
        "plt.xlabel(\"Number of Epochs\")\n",
        "plt.ylabel(\"Percentage (%)\")\n",
        "plt.legend()\n",
        "\n",
        "print(\n",
        "    f'Maximum validation accuracy: {max(epoch_val_accuracy_mean_conv_nn)} at epoch {epoch_val_accuracy_mean_conv_nn.index(max(epoch_val_accuracy_mean_conv_nn))+1}'\n",
        ")"
      ],
      "metadata": {
        "colab": {
          "base_uri": "https://localhost:8080/",
          "height": 466
        },
        "id": "Z3TN8HlcuvQi",
        "outputId": "3611e700-945e-4d67-b923-87f983e14d6e"
      },
      "execution_count": null,
      "outputs": [
        {
          "output_type": "stream",
          "name": "stdout",
          "text": [
            "Maximum validation accuracy: 0.9858166724443436 at epoch 5\n"
          ]
        },
        {
          "output_type": "display_data",
          "data": {
            "text/plain": [
              "<Figure size 640x480 with 1 Axes>"
            ],
            "image/png": "[encoded data removed]"
          },
          "metadata": {}
        }
      ]
    },
    {
      "cell_type": "code",
      "source": [
        "convNN = buildConvolutionalNN([32, 64, 64], 64, [(3, 3), (3, 3), (3, 3)], [(2, 2), (2, 2)], (28, 28, 1))\n",
        "convNN.fit(train_input_convolutional_nn, train_output_convolutional_nn, batch_size=64, epochs=5)"
      ],
      "metadata": {
        "colab": {
          "base_uri": "https://localhost:8080/"
        },
        "id": "S9UQ7djZuwpS",
        "outputId": "640ae507-8301-46bb-b24a-6e136075b44e"
      },
      "execution_count": null,
      "outputs": [
        {
          "output_type": "stream",
          "name": "stdout",
          "text": [
            "Epoch 1/5\n",
            "938/938 [==============================] - 54s 56ms/step - loss: 0.2014 - accuracy: 0.9405\n",
            "Epoch 2/5\n",
            "938/938 [==============================] - 53s 56ms/step - loss: 0.0690 - accuracy: 0.9814\n",
            "Epoch 3/5\n",
            "938/938 [==============================] - 53s 56ms/step - loss: 0.0553 - accuracy: 0.9851\n",
            "Epoch 4/5\n",
            "938/938 [==============================] - 53s 57ms/step - loss: 0.0463 - accuracy: 0.9875\n",
            "Epoch 5/5\n",
            "938/938 [==============================] - 54s 57ms/step - loss: 0.0419 - accuracy: 0.9893\n"
          ]
        },
        {
          "output_type": "execute_result",
          "data": {
            "text/plain": [
              "<keras.src.callbacks.History at 0x7ba7779e5c30>"
            ]
          },
          "metadata": {},
          "execution_count": 15
        }
      ]
    },
    {
      "cell_type": "code",
      "source": [
        "convNN.evaluate(test_input_convolutional_nn, test_output_convolutional_nn)"
      ],
      "metadata": {
        "colab": {
          "base_uri": "https://localhost:8080/"
        },
        "id": "tTfqO2C5uyKa",
        "outputId": "3649d14d-6929-46bb-dd22-aa88394fdbd8"
      },
      "execution_count": null,
      "outputs": [
        {
          "output_type": "stream",
          "name": "stdout",
          "text": [
            "313/313 [==============================] - 4s 12ms/step - loss: 0.0416 - accuracy: 0.9888\n"
          ]
        },
        {
          "output_type": "execute_result",
          "data": {
            "text/plain": [
              "[0.04156793653964996, 0.9887999892234802]"
            ]
          },
          "metadata": {},
          "execution_count": 16
        }
      ]
    },
    {
      "cell_type": "code",
      "source": [],
      "metadata": {
        "id": "Q5GWhHjZuzMa"
      },
      "execution_count": null,
      "outputs": []
    }
  ]
}